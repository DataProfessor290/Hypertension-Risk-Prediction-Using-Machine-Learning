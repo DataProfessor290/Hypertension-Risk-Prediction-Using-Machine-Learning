{
 "cells": [
  {
   "cell_type": "code",
   "execution_count": 45,
   "id": "fc095799-1794-45dd-b099-a020e6821a5e",
   "metadata": {},
   "outputs": [],
   "source": [
    "## Import Libraries\n",
    "import pandas as pd \n",
    "import matplotlib.pyplot as plt\n",
    "import seaborn as sns \n",
    "from sklearn.model_selection import train_test_split\n",
    "from sklearn.pipeline import Pipeline\n",
    "from sklearn.preprocessing import StandardScaler, OrdinalEncoder\n",
    "from sklearn.compose import ColumnTransformer\n",
    "from sklearn.impute import SimpleImputer\n",
    "from imblearn.under_sampling import RandomUnderSampler\n",
    "from sklearn.linear_model import LogisticRegression\n",
    "from sklearn.tree import DecisionTreeClassifier\n",
    "from sklearn.ensemble import RandomForestClassifier\n",
    "from sklearn.svm import SVC\n",
    "from xgboost import XGBClassifier\n",
    "from sklearn.neighbors import KNeighborsClassifier\n",
    "from sklearn.metrics import classification_report, confusion_matrix\n",
    "import joblib\n",
    "import streamlit as st"
   ]
  },
  {
   "cell_type": "code",
   "execution_count": 46,
   "id": "f8bf0ff6-3719-4371-bec0-15ab07e4971e",
   "metadata": {},
   "outputs": [],
   "source": [
    "url = r\"C:\\Users\\Data Professor\\Desktop\\Hypertension Project\\hypertension_dataset.csv\"  ## csv_file"
   ]
  },
  {
   "cell_type": "code",
   "execution_count": 47,
   "id": "29ec96f6-8c15-4c8f-81a1-68c3db494cc2",
   "metadata": {},
   "outputs": [],
   "source": [
    "df = pd.read_csv(url)"
   ]
  },
  {
   "cell_type": "code",
   "execution_count": 48,
   "id": "10857542-0beb-4964-bb3a-be1ae68a7d2d",
   "metadata": {},
   "outputs": [
    {
     "data": {
      "text/html": [
       "<div>\n",
       "<style scoped>\n",
       "    .dataframe tbody tr th:only-of-type {\n",
       "        vertical-align: middle;\n",
       "    }\n",
       "\n",
       "    .dataframe tbody tr th {\n",
       "        vertical-align: top;\n",
       "    }\n",
       "\n",
       "    .dataframe thead th {\n",
       "        text-align: right;\n",
       "    }\n",
       "</style>\n",
       "<table border=\"1\" class=\"dataframe\">\n",
       "  <thead>\n",
       "    <tr style=\"text-align: right;\">\n",
       "      <th></th>\n",
       "      <th>Age</th>\n",
       "      <th>Salt_Intake</th>\n",
       "      <th>Stress_Score</th>\n",
       "      <th>BP_History</th>\n",
       "      <th>Sleep_Duration</th>\n",
       "      <th>BMI</th>\n",
       "      <th>Medication</th>\n",
       "      <th>Family_History</th>\n",
       "      <th>Exercise_Level</th>\n",
       "      <th>Smoking_Status</th>\n",
       "      <th>Has_Hypertension</th>\n",
       "    </tr>\n",
       "  </thead>\n",
       "  <tbody>\n",
       "    <tr>\n",
       "      <th>0</th>\n",
       "      <td>69</td>\n",
       "      <td>8.0</td>\n",
       "      <td>9</td>\n",
       "      <td>Normal</td>\n",
       "      <td>6.4</td>\n",
       "      <td>25.8</td>\n",
       "      <td>NaN</td>\n",
       "      <td>Yes</td>\n",
       "      <td>Low</td>\n",
       "      <td>Non-Smoker</td>\n",
       "      <td>Yes</td>\n",
       "    </tr>\n",
       "    <tr>\n",
       "      <th>1</th>\n",
       "      <td>32</td>\n",
       "      <td>11.7</td>\n",
       "      <td>10</td>\n",
       "      <td>Normal</td>\n",
       "      <td>5.4</td>\n",
       "      <td>23.4</td>\n",
       "      <td>NaN</td>\n",
       "      <td>No</td>\n",
       "      <td>Low</td>\n",
       "      <td>Non-Smoker</td>\n",
       "      <td>No</td>\n",
       "    </tr>\n",
       "    <tr>\n",
       "      <th>2</th>\n",
       "      <td>78</td>\n",
       "      <td>9.5</td>\n",
       "      <td>3</td>\n",
       "      <td>Normal</td>\n",
       "      <td>7.1</td>\n",
       "      <td>18.7</td>\n",
       "      <td>NaN</td>\n",
       "      <td>No</td>\n",
       "      <td>Moderate</td>\n",
       "      <td>Non-Smoker</td>\n",
       "      <td>No</td>\n",
       "    </tr>\n",
       "    <tr>\n",
       "      <th>3</th>\n",
       "      <td>38</td>\n",
       "      <td>10.0</td>\n",
       "      <td>10</td>\n",
       "      <td>Hypertension</td>\n",
       "      <td>4.2</td>\n",
       "      <td>22.1</td>\n",
       "      <td>ACE Inhibitor</td>\n",
       "      <td>No</td>\n",
       "      <td>Low</td>\n",
       "      <td>Non-Smoker</td>\n",
       "      <td>Yes</td>\n",
       "    </tr>\n",
       "    <tr>\n",
       "      <th>4</th>\n",
       "      <td>41</td>\n",
       "      <td>9.8</td>\n",
       "      <td>1</td>\n",
       "      <td>Prehypertension</td>\n",
       "      <td>5.8</td>\n",
       "      <td>16.2</td>\n",
       "      <td>Other</td>\n",
       "      <td>No</td>\n",
       "      <td>Moderate</td>\n",
       "      <td>Non-Smoker</td>\n",
       "      <td>No</td>\n",
       "    </tr>\n",
       "  </tbody>\n",
       "</table>\n",
       "</div>"
      ],
      "text/plain": [
       "   Age  Salt_Intake  Stress_Score       BP_History  Sleep_Duration   BMI  \\\n",
       "0   69          8.0             9           Normal             6.4  25.8   \n",
       "1   32         11.7            10           Normal             5.4  23.4   \n",
       "2   78          9.5             3           Normal             7.1  18.7   \n",
       "3   38         10.0            10     Hypertension             4.2  22.1   \n",
       "4   41          9.8             1  Prehypertension             5.8  16.2   \n",
       "\n",
       "      Medication Family_History Exercise_Level Smoking_Status Has_Hypertension  \n",
       "0            NaN            Yes            Low     Non-Smoker              Yes  \n",
       "1            NaN             No            Low     Non-Smoker               No  \n",
       "2            NaN             No       Moderate     Non-Smoker               No  \n",
       "3  ACE Inhibitor             No            Low     Non-Smoker              Yes  \n",
       "4          Other             No       Moderate     Non-Smoker               No  "
      ]
     },
     "execution_count": 48,
     "metadata": {},
     "output_type": "execute_result"
    }
   ],
   "source": [
    "df.head()  ## frist 5 rows of dataset"
   ]
  },
  {
   "cell_type": "code",
   "execution_count": 49,
   "id": "3dd54118-84d3-41e8-af97-1f52b7e13199",
   "metadata": {},
   "outputs": [
    {
     "data": {
      "text/plain": [
       "(1985, 11)"
      ]
     },
     "execution_count": 49,
     "metadata": {},
     "output_type": "execute_result"
    }
   ],
   "source": [
    "df.shape  ## rows and coluns of the dataset"
   ]
  },
  {
   "cell_type": "code",
   "execution_count": 50,
   "id": "db32f7a2-600b-48ff-ac87-31028c20268f",
   "metadata": {},
   "outputs": [],
   "source": [
    "df.columns = df.columns.str.lower()  ## converting columns to lower case \n",
    "df.columns = df.columns.str.strip()  ## removing extra spaces in columns\n",
    "    "
   ]
  },
  {
   "cell_type": "code",
   "execution_count": 51,
   "id": "53bb50a8-cc57-4430-83d9-ee90a3d8f229",
   "metadata": {},
   "outputs": [
    {
     "name": "stdout",
     "output_type": "stream",
     "text": [
      "<class 'pandas.core.frame.DataFrame'>\n",
      "RangeIndex: 1985 entries, 0 to 1984\n",
      "Data columns (total 11 columns):\n",
      " #   Column            Non-Null Count  Dtype  \n",
      "---  ------            --------------  -----  \n",
      " 0   age               1985 non-null   int64  \n",
      " 1   salt_intake       1985 non-null   float64\n",
      " 2   stress_score      1985 non-null   int64  \n",
      " 3   bp_history        1985 non-null   object \n",
      " 4   sleep_duration    1985 non-null   float64\n",
      " 5   bmi               1985 non-null   float64\n",
      " 6   medication        1186 non-null   object \n",
      " 7   family_history    1985 non-null   object \n",
      " 8   exercise_level    1985 non-null   object \n",
      " 9   smoking_status    1985 non-null   object \n",
      " 10  has_hypertension  1985 non-null   object \n",
      "dtypes: float64(3), int64(2), object(6)\n",
      "memory usage: 170.7+ KB\n"
     ]
    }
   ],
   "source": [
    "df.info()  ## checking the information and structure of the dataset"
   ]
  },
  {
   "cell_type": "code",
   "execution_count": 52,
   "id": "185ac247-cdcc-4183-b18c-4e5ff58e1e01",
   "metadata": {},
   "outputs": [
    {
     "data": {
      "text/plain": [
       "np.False_"
      ]
     },
     "execution_count": 52,
     "metadata": {},
     "output_type": "execute_result"
    }
   ],
   "source": [
    "df.duplicated().any()  ## checking for duplicated rows "
   ]
  },
  {
   "cell_type": "code",
   "execution_count": 53,
   "id": "d4236921-1929-4ea1-9aea-f614ef7c69cb",
   "metadata": {},
   "outputs": [
    {
     "data": {
      "text/plain": [
       "age                 False\n",
       "salt_intake         False\n",
       "stress_score        False\n",
       "bp_history          False\n",
       "sleep_duration      False\n",
       "bmi                 False\n",
       "medication           True\n",
       "family_history      False\n",
       "exercise_level      False\n",
       "smoking_status      False\n",
       "has_hypertension    False\n",
       "dtype: bool"
      ]
     },
     "execution_count": 53,
     "metadata": {},
     "output_type": "execute_result"
    }
   ],
   "source": [
    "df.isna().any()  #3 checking for misiing values "
   ]
  },
  {
   "cell_type": "code",
   "execution_count": 54,
   "id": "2f46fd9a-3e9b-4af9-9af9-2c51655717a5",
   "metadata": {},
   "outputs": [
    {
     "data": {
      "text/plain": [
       "age                   0\n",
       "salt_intake           0\n",
       "stress_score          0\n",
       "bp_history            0\n",
       "sleep_duration        0\n",
       "bmi                   0\n",
       "medication          799\n",
       "family_history        0\n",
       "exercise_level        0\n",
       "smoking_status        0\n",
       "has_hypertension      0\n",
       "dtype: int64"
      ]
     },
     "execution_count": 54,
     "metadata": {},
     "output_type": "execute_result"
    }
   ],
   "source": [
    "df.isna().sum()  ## identifying missing values "
   ]
  },
  {
   "cell_type": "code",
   "execution_count": 55,
   "id": "31edfd2f-754a-4c68-9483-2df454f20160",
   "metadata": {},
   "outputs": [
    {
     "data": {
      "text/plain": [
       "medication\n",
       "Beta Blocker     412\n",
       "ACE Inhibitor    323\n",
       "Diuretic         245\n",
       "Other            206\n",
       "Name: count, dtype: int64"
      ]
     },
     "execution_count": 55,
     "metadata": {},
     "output_type": "execute_result"
    }
   ],
   "source": [
    "df[\"medication\"].value_counts()  ## medication count"
   ]
  },
  {
   "cell_type": "code",
   "execution_count": 56,
   "id": "02642106-f1fa-49d2-ab89-0b8f4195665a",
   "metadata": {},
   "outputs": [],
   "source": [
    "df[\"medication\"] = df[\"medication\"].fillna(\"None\")  ## handling missing values in medication column"
   ]
  },
  {
   "cell_type": "code",
   "execution_count": 57,
   "id": "220b2f2b-d5a2-4623-8f6d-98f4c210db66",
   "metadata": {},
   "outputs": [
    {
     "data": {
      "text/plain": [
       "np.False_"
      ]
     },
     "execution_count": 57,
     "metadata": {},
     "output_type": "execute_result"
    }
   ],
   "source": [
    "df[\"medication\"].isna().any()  ## confirming no null"
   ]
  },
  {
   "cell_type": "code",
   "execution_count": 58,
   "id": "5698b491-8f03-4e95-b7dc-5a892e86bd30",
   "metadata": {},
   "outputs": [
    {
     "name": "stderr",
     "output_type": "stream",
     "text": [
      "C:\\Users\\Data Professor\\AppData\\Local\\Temp\\ipykernel_868\\941030597.py:1: FutureWarning: Downcasting behavior in `replace` is deprecated and will be removed in a future version. To retain the old behavior, explicitly call `result.infer_objects(copy=False)`. To opt-in to the future behavior, set `pd.set_option('future.no_silent_downcasting', True)`\n",
      "  df[\"has_hypertension\"] = df[\"has_hypertension\"].replace({\"Yes\":1, \"No\":0})\n"
     ]
    }
   ],
   "source": [
    "df[\"has_hypertension\"] = df[\"has_hypertension\"].replace({\"Yes\":1, \"No\":0})  ## converting target to binary"
   ]
  },
  {
   "cell_type": "code",
   "execution_count": 59,
   "id": "c1957d04-c610-4dbf-93d3-3550ae767bc7",
   "metadata": {},
   "outputs": [
    {
     "data": {
      "text/plain": [
       "has_hypertension\n",
       "1    1032\n",
       "0     953\n",
       "Name: count, dtype: int64"
      ]
     },
     "execution_count": 59,
     "metadata": {},
     "output_type": "execute_result"
    }
   ],
   "source": [
    "df[\"has_hypertension\"].value_counts()  ## target count to check for status balance"
   ]
  },
  {
   "cell_type": "code",
   "execution_count": 60,
   "id": "0f75119e-69f3-4613-8268-6647614ba5ed",
   "metadata": {},
   "outputs": [
    {
     "name": "stdout",
     "output_type": "stream",
     "text": [
      "The Classification Report for Linear Model:\n",
      "              precision    recall  f1-score   support\n",
      "\n",
      "           0       0.80      0.82      0.81       188\n",
      "           1       0.82      0.80      0.81       194\n",
      "\n",
      "    accuracy                           0.81       382\n",
      "   macro avg       0.81      0.81      0.81       382\n",
      "weighted avg       0.81      0.81      0.81       382\n",
      "\n",
      "\n",
      "The Confusion Matrix for Linear Model:\n",
      "[[155  33]\n",
      " [ 39 155]]\n",
      "----------------------------------------------------------------------------------------------------\n",
      "The Classification Report for Tree Model:\n",
      "              precision    recall  f1-score   support\n",
      "\n",
      "           0       0.94      0.96      0.95       188\n",
      "           1       0.96      0.94      0.95       194\n",
      "\n",
      "    accuracy                           0.95       382\n",
      "   macro avg       0.95      0.95      0.95       382\n",
      "weighted avg       0.95      0.95      0.95       382\n",
      "\n",
      "\n",
      "The Confusion Matrix for Tree Model:\n",
      "[[181   7]\n",
      " [ 11 183]]\n",
      "----------------------------------------------------------------------------------------------------\n",
      "The Classification Report for Random Forest Model:\n",
      "              precision    recall  f1-score   support\n",
      "\n",
      "           0       0.96      0.98      0.97       188\n",
      "           1       0.98      0.96      0.97       194\n",
      "\n",
      "    accuracy                           0.97       382\n",
      "   macro avg       0.97      0.97      0.97       382\n",
      "weighted avg       0.97      0.97      0.97       382\n",
      "\n",
      "\n",
      "The Confusion Matrix for Random Forest Model:\n",
      "[[184   4]\n",
      " [  8 186]]\n",
      "----------------------------------------------------------------------------------------------------\n",
      "The Classification Report for Vector Model:\n",
      "              precision    recall  f1-score   support\n",
      "\n",
      "           0       0.89      0.89      0.89       188\n",
      "           1       0.89      0.89      0.89       194\n",
      "\n",
      "    accuracy                           0.89       382\n",
      "   macro avg       0.89      0.89      0.89       382\n",
      "weighted avg       0.89      0.89      0.89       382\n",
      "\n",
      "\n",
      "The Confusion Matrix for Vector Model:\n",
      "[[167  21]\n",
      " [ 21 173]]\n",
      "----------------------------------------------------------------------------------------------------\n",
      "The Classification Report for Neighbors Model:\n",
      "              precision    recall  f1-score   support\n",
      "\n",
      "           0       0.75      0.90      0.82       188\n",
      "           1       0.88      0.71      0.79       194\n",
      "\n",
      "    accuracy                           0.80       382\n",
      "   macro avg       0.82      0.81      0.80       382\n",
      "weighted avg       0.82      0.80      0.80       382\n",
      "\n",
      "\n",
      "The Confusion Matrix for Neighbors Model:\n",
      "[[169  19]\n",
      " [ 56 138]]\n",
      "----------------------------------------------------------------------------------------------------\n",
      "The Classification Report for XGBoost:\n",
      "              precision    recall  f1-score   support\n",
      "\n",
      "           0       0.97      0.99      0.98       188\n",
      "           1       0.99      0.97      0.98       194\n",
      "\n",
      "    accuracy                           0.98       382\n",
      "   macro avg       0.98      0.98      0.98       382\n",
      "weighted avg       0.98      0.98      0.98       382\n",
      "\n",
      "\n",
      "The Confusion Matrix for XGBoost:\n",
      "[[187   1]\n",
      " [  5 189]]\n",
      "----------------------------------------------------------------------------------------------------\n"
     ]
    }
   ],
   "source": [
    "def train_data():\n",
    "    df[\"medication\"] = df[\"medication\"].fillna(\"None\")\n",
    "    \n",
    "    df[\"has_hypertension\"] = df[\"has_hypertension\"].replace({\"Yes\":1, \"No\":0})\n",
    "    \n",
    "    \n",
    "    resampler = RandomUnderSampler()\n",
    "    \n",
    "    x = df.drop([\"has_hypertension\"], axis = 1)\n",
    "    y = df[\"has_hypertension\"]\n",
    "    \n",
    "    resampled_x, resampled_y = resampler.fit_resample(x,y)\n",
    "    \n",
    "    resampled_y.value_counts()\n",
    "    \n",
    "    \n",
    "    x_train, x_test, y_train, y_test = train_test_split(resampled_x, resampled_y, test_size = .2, random_state = 42)\n",
    "    \n",
    "    return x_train, x_test, y_train, y_test\n",
    "\n",
    "x_train, x_test, y_train, y_test = train_data()\n",
    "\n",
    "\n",
    "\n",
    "def create_processor():\n",
    "    num_cols = x_train.select_dtypes(include=[\"number\"]).columns \n",
    "    cat_cols = x_train.select_dtypes(include=[\"object\"]).columns\n",
    "    \n",
    "    num_pipe = Pipeline([\n",
    "        (\"imputer\", SimpleImputer(strategy = \"median\")),\n",
    "        (\"scaler\", StandardScaler())\n",
    "    ])\n",
    "    \n",
    "    cat_pipe = Pipeline([\n",
    "        (\"imputer\", SimpleImputer(strategy = \"most_frequent\")),\n",
    "        (\"scaler\", OrdinalEncoder(handle_unknown = \"use_encoded_value\", unknown_value = -1))\n",
    "    ])\n",
    "    \n",
    "    \n",
    "    processor = ColumnTransformer(\n",
    "        transformers=[\n",
    "            (\"num_pipe\", num_pipe, num_cols),\n",
    "            (\"cat_pipe\", cat_pipe, cat_cols)\n",
    "        ], \n",
    "        remainder = \"passthrough\"\n",
    "    )\n",
    "    return processor\n",
    "\n",
    "processor = create_processor()\n",
    "\n",
    "\n",
    "\n",
    "def check_models():\n",
    "    Models = {\n",
    "        \"Linear Model\" : LogisticRegression(),\n",
    "        \"Tree Model\" : DecisionTreeClassifier(),\n",
    "        \"Random Forest Model\" : RandomForestClassifier(),\n",
    "        \"Vector Model\" : SVC(),\n",
    "        \"Neighbors Model\" : KNeighborsClassifier(),\n",
    "        \"XGBoost\" : XGBClassifier()\n",
    "    }\n",
    "    \n",
    "    for name, models in Models.items():\n",
    "        model = Pipeline([\n",
    "            (\"transformer\", processor),\n",
    "            (\"model\", models)\n",
    "        ]).fit(x_train, y_train)\n",
    "        prediction = model.predict(x_test)\n",
    "    \n",
    "        report = classification_report(y_test, prediction)\n",
    "        matrix = confusion_matrix(y_test, prediction)\n",
    "        print(f\"The Classification Report for {name}:\")\n",
    "        print(report)\n",
    "        print()\n",
    "        print(f\"The Confusion Matrix for {name}:\")\n",
    "        print(matrix)\n",
    "        print(\"-\"*100)\n",
    "\n",
    "\n",
    "check_models()\n",
    "    \n",
    "    "
   ]
  },
  {
   "cell_type": "code",
   "execution_count": 65,
   "id": "afc403dc-5cdd-4d5f-9a93-384f4a32b45e",
   "metadata": {},
   "outputs": [
    {
     "data": {
      "image/png": "[encoded data removed]",
      "text/plain": [
       "<Figure size 640x480 with 1 Axes>"
      ]
     },
     "metadata": {},
     "output_type": "display_data"
    },
    {
     "name": "stdout",
     "output_type": "stream",
     "text": [
      "         Features  Importance Score\n",
      "0             age          0.073008\n",
      "1     salt_intake          0.071734\n",
      "2    stress_score          0.103500\n",
      "3      bp_history          0.066170\n",
      "4  sleep_duration          0.064452\n",
      "5             bmi          0.345766\n",
      "6      medication          0.011524\n",
      "7  family_history          0.129502\n",
      "8  exercise_level          0.004610\n",
      "9  smoking_status          0.129735\n"
     ]
    },
    {
     "data": {
      "image/png": "[encoded data removed]",
      "text/plain": [
       "<Figure size 640x480 with 1 Axes>"
      ]
     },
     "metadata": {},
     "output_type": "display_data"
    }
   ],
   "source": [
    "## xgboost model \n",
    "def train_xgboost():\n",
    "    xgboost_model = Pipeline([\n",
    "        (\"transformer\", processor),\n",
    "        (\"xgboost_model\", XGBClassifier())\n",
    "    ]).fit(x_train, y_train)\n",
    "    \n",
    "    \n",
    "    ## feature importance \n",
    "    features = x_train.columns\n",
    "    importance = xgboost_model.named_steps[\"xgboost_model\"].feature_importances_\n",
    "    \n",
    "    importance_df = pd.DataFrame(\n",
    "        {\n",
    "            \"Features\" : features,\n",
    "            \"Importance Score\" : importance\n",
    "        }\n",
    "    )\n",
    "    importance_df\n",
    "    importance_df.plot(x = \"Features\", y = \"Importance Score\", kind = \"barh\")\n",
    "    plt.title(\"Features Vs Importance Score\")\n",
    "    plt.show()\n",
    "    \n",
    "    \n",
    "    ## Top 5 Important Features\n",
    "    importance_df.sort_values(by = \"Importance Score\", ascending = False).reset_index(drop = True).head().round(2)\n",
    "\n",
    "    print(importance_df)\n",
    "    \n",
    "    ranked_importance = importance_df.sort_values(by = \"Importance Score\", ascending = False).reset_index().head().round(2).plot(x = \"Features\", y = \"Importance Score\", kind = \"barh\")\n",
    "    plt.title(\"Top 5 Feature Importance By Score\")\n",
    "    plt.show()\n",
    "\n",
    "\n",
    "train_xgboost()"
   ]
  },
  {
   "cell_type": "code",
   "execution_count": null,
   "id": "38648fec-1a0e-4fe1-a688-0fa40467a9e0",
   "metadata": {},
   "outputs": [],
   "source": []
  },
  {
   "cell_type": "code",
   "execution_count": null,
   "id": "a050405d-aa9a-4f2c-a066-84b1c774a1d4",
   "metadata": {},
   "outputs": [],
   "source": []
  },
  {
   "cell_type": "code",
   "execution_count": null,
   "id": "a480a904-1197-496d-bdc2-6a29d68cda89",
   "metadata": {},
   "outputs": [],
   "source": [
    "## joblib.dump(xgboost_model, \"hypertension_xgboost_model.pkl\")"
   ]
  }
 ],
 "metadata": {
  "kernelspec": {
   "display_name": "Python 3 (ipykernel)",
   "language": "python",
   "name": "python3"
  },
  "language_info": {
   "codemirror_mode": {
    "name": "ipython",
    "version": 3
   },
   "file_extension": ".py",
   "mimetype": "text/x-python",
   "name": "python",
   "nbconvert_exporter": "python",
   "pygments_lexer": "ipython3",
   "version": "3.13.3"
  }
 },
 "nbformat": 4,
 "nbformat_minor": 5
}
